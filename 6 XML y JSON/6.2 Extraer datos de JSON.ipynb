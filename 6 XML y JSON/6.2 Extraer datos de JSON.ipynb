{
 "cells": [
  {
   "cell_type": "code",
   "execution_count": 1,
   "metadata": {},
   "outputs": [
    {
     "name": "stdout",
     "output_type": "stream",
     "text": [
      "Número de personas: 3\n",
      "\r\n",
      "Nombre: Alvaro Chirou\n",
      "Pais: Argentina, Neuquen\n",
      "Telefono: 11\n",
      "\r\n",
      "Nombre: Valentina Chirou\n",
      "Pais: Argentina, Neuquen\n",
      "Telefono: 22\n",
      "\r\n",
      "Nombre: Estudiantes Udemy\n",
      "Pais: Todo el mundo\n",
      "Telefono: 33\n"
     ]
    }
   ],
   "source": [
    "#Basado: https://www.udemy.com/course/big-data-data-science-python-web-scraping-2019-achirou-alvaro-chirou/learn/lecture/18185520#notes\n",
    "\n",
    "import json\n",
    "abrir = open(\"clase.json\", \"r\") #la ruta al archivo, en este caso esta en la misma ruta\n",
    "leer = json.loads(abrir.read())\n",
    "\n",
    "print('Número de personas:', len(leer)) \n",
    "\n",
    "for x in leer:\n",
    "    print('\\r')\n",
    "    print('Nombre:', x['nombre'])\n",
    "    print('Pais:', x['pais'])\n",
    "    print('Telefono:', x['telefono'])"
   ]
  },
  {
   "cell_type": "code",
   "execution_count": null,
   "metadata": {},
   "outputs": [],
   "source": []
  }
 ],
 "metadata": {
  "kernelspec": {
   "display_name": "Python 3",
   "language": "python",
   "name": "python3"
  },
  "language_info": {
   "codemirror_mode": {
    "name": "ipython",
    "version": 3
   },
   "file_extension": ".py",
   "mimetype": "text/x-python",
   "name": "python",
   "nbconvert_exporter": "python",
   "pygments_lexer": "ipython3",
   "version": "3.7.3"
  }
 },
 "nbformat": 4,
 "nbformat_minor": 2
}

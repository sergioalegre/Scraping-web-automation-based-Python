{
 "cells": [
  {
   "cell_type": "code",
   "execution_count": 1,
   "metadata": {},
   "outputs": [
    {
     "name": "stdout",
     "output_type": "stream",
     "text": [
      "Cantidad de Registros: 5\n",
      "\r\n",
      "Nombre: Belgian Waffles\n",
      "Precio: $5.95\n",
      "Descripcón: Two of our famous Belgian Waffles with plenty of real maple syrup\n",
      "Calorias: 650\n",
      "\r\n",
      "Nombre: Strawberry Belgian Waffles\n",
      "Precio: $7.95\n",
      "Descripcón: Light Belgian waffles covered with strawberries and whipped cream\n",
      "Calorias: 900\n",
      "\r\n",
      "Nombre: Berry-Berry Belgian Waffles\n",
      "Precio: $8.95\n",
      "Descripcón: Light Belgian waffles covered with an assortment of fresh berries and whipped cream\n",
      "Calorias: 900\n",
      "\r\n",
      "Nombre: French Toast\n",
      "Precio: $4.50\n",
      "Descripcón: Thick slices made from our homemade sourdough bread\n",
      "Calorias: 600\n",
      "\r\n",
      "Nombre: Homestyle Breakfast\n",
      "Precio: $6.95\n",
      "Descripcón: Two eggs, bacon or sausage, toast, and our ever-popular hash browns\n",
      "Calorias: 950\n"
     ]
    }
   ],
   "source": [
    "#Basado https://www.udemy.com/course/big-data-data-science-python-web-scraping-2019-achirou-alvaro-chirou/learn/lecture/18185514#notes\n",
    "\n",
    "import urllib.request\n",
    "import xml.etree.ElementTree as xml\n",
    "\n",
    "pagina = 'https://www.w3schools.com/xml/simple.xml'\n",
    "\n",
    "info = urllib.request.urlopen(pagina).read()\n",
    "x = xml.fromstring(info.decode())\n",
    "\n",
    "s = x.findall('food') #queremos el contenido de las etiquetas 'food' del XML\n",
    "print('Cantidad de Registros:', len(s)) #Cuantas etiquetas 'food' hay en el XML\n",
    "\n",
    "for y in s:\n",
    "    print('\\r')\n",
    "    print('Nombre:', y.find('name').text)\n",
    "    print('Precio:', y.find('price').text)\n",
    "    print('Descripcón:', y.find('description').text)\n",
    "    print('Calorias:', y.find('calories').text)"
   ]
  },
  {
   "cell_type": "code",
   "execution_count": null,
   "metadata": {},
   "outputs": [],
   "source": []
  }
 ],
 "metadata": {
  "kernelspec": {
   "display_name": "Python 3",
   "language": "python",
   "name": "python3"
  },
  "language_info": {
   "codemirror_mode": {
    "name": "ipython",
    "version": 3
   },
   "file_extension": ".py",
   "mimetype": "text/x-python",
   "name": "python",
   "nbconvert_exporter": "python",
   "pygments_lexer": "ipython3",
   "version": "3.7.3"
  }
 },
 "nbformat": 4,
 "nbformat_minor": 2
}

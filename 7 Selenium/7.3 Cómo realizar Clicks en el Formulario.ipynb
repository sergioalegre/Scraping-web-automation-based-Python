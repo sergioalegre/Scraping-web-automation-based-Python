{
 "cells": [
  {
   "cell_type": "code",
   "execution_count": 8,
   "metadata": {},
   "outputs": [],
   "source": [
    "#Basado en https://www.udemy.com/course/big-data-data-science-python-web-scraping-2019-achirou-alvaro-chirou/learn/lecture/18199330#notes\n",
    "\n",
    "#En este ejemplo Python abrirá la web y nos situará en el campo de tipo 'input' y con name 'password'\n",
    "\n",
    "from selenium.webdriver.common.keys import Keys\n",
    "from selenium import webdriver\n",
    "import time\n",
    "\n",
    "chrome_driver = webdriver.Chrome(\"chromedriver.exe\")\n",
    "\n",
    "chrome_driver.get('https://www.jigsawplanet.com/?rc=signin')\n",
    "\n",
    "click_en_campo = chrome_driver.find_element_by_css_selector('input[name=\"password\"]')\n",
    "\n",
    "click = click_en_campo.click()"
   ]
  },
  {
   "cell_type": "code",
   "execution_count": null,
   "metadata": {},
   "outputs": [],
   "source": []
  }
 ],
 "metadata": {
  "kernelspec": {
   "display_name": "Python 3",
   "language": "python",
   "name": "python3"
  },
  "language_info": {
   "codemirror_mode": {
    "name": "ipython",
    "version": 3
   },
   "file_extension": ".py",
   "mimetype": "text/x-python",
   "name": "python",
   "nbconvert_exporter": "python",
   "pygments_lexer": "ipython3",
   "version": "3.7.3"
  }
 },
 "nbformat": 4,
 "nbformat_minor": 2
}

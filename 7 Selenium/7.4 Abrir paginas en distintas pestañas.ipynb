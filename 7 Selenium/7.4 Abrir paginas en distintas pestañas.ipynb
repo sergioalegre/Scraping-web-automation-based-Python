{
 "cells": [
  {
   "cell_type": "code",
   "execution_count": null,
   "metadata": {
    "scrolled": true
   },
   "outputs": [],
   "source": [
    "#Basado en https://www.udemy.com/course/big-data-data-science-python-web-scraping-2019-achirou-alvaro-chirou/learn/lecture/21221834#notes\n",
    "\n",
    "import unittest\n",
    "from selenium.webdriver.common.keys import Keys\n",
    "from selenium import webdriver\n",
    "import time\n",
    "\n",
    "chrome_driver = webdriver.Chrome(\"chromedriver.exe\")\n",
    "\n",
    "driver = chrome_driver\n",
    "driver.get(\"https://achirou.com\") #abrir en la primera pestaña +espera\n",
    "time.sleep(2)\n",
    "\n",
    "driver.execute_script(\"window.open('');\") #abre segunda pestaña + espera + en ella abre una web + espera\n",
    "time.sleep(2)\n",
    "driver.switch_to.window(driver.window_handles[1]) \n",
    "driver.get(\"https://educa.mastech.academy\")\n",
    "time.sleep(2)\n",
    "\n",
    "driver.execute_script(\"window.open('');\") #abre tercera pestaña + espera + en ella abre una web + espera\n",
    "time.sleep(2)\n",
    "driver.switch_to.window(driver.window_handles[2])\n",
    "driver.get(\"https://google.com\")\n",
    "time.sleep(2)\n",
    "\n",
    "driver.switch_to.window(driver.window_handles[0]) #nos posiciona en primera pestaña\n"
   ]
  },
  {
   "cell_type": "code",
   "execution_count": null,
   "metadata": {},
   "outputs": [],
   "source": []
  },
  {
   "cell_type": "code",
   "execution_count": null,
   "metadata": {},
   "outputs": [],
   "source": []
  }
 ],
 "metadata": {
  "kernelspec": {
   "display_name": "Python 3",
   "language": "python",
   "name": "python3"
  },
  "language_info": {
   "codemirror_mode": {
    "name": "ipython",
    "version": 3
   },
   "file_extension": ".py",
   "mimetype": "text/x-python",
   "name": "python",
   "nbconvert_exporter": "python",
   "pygments_lexer": "ipython3",
   "version": "3.7.3"
  }
 },
 "nbformat": 4,
 "nbformat_minor": 2
}

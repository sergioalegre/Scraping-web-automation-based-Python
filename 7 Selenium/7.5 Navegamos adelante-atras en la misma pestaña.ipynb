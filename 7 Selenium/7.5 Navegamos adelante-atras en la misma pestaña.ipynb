{
 "cells": [
  {
   "cell_type": "code",
   "execution_count": null,
   "metadata": {},
   "outputs": [],
   "source": [
    "#basado en https://www.udemy.com/course/big-data-data-science-python-web-scraping-2019-achirou-alvaro-chirou/learn/lecture/21222268#notes\n",
    "import unittest\n",
    "from selenium.webdriver.common.keys import Keys\n",
    "from selenium import webdriver\n",
    "import time\n",
    "\n",
    "chrome_driver = webdriver.Chrome(\"chromedriver.exe\")\n",
    "\n",
    "driver = chrome_driver\n",
    "driver.get(\"https://achirou.com\")\n",
    "time.sleep(1)\n",
    "driver.get(\"https://educa.mastech.academy\")\n",
    "time.sleep(1)\n",
    "driver.get(\"https://google.com\")\n",
    "time.sleep(1)\n",
    "driver.back() #vuelve un paso atras\n",
    "time.sleep(1)\n",
    "driver.back() #vuelve otro paso atras\n",
    "time.sleep(1)\n",
    "driver.forward() #hacia adelante\n",
    "time.sleep(1)"
   ]
  },
  {
   "cell_type": "code",
   "execution_count": null,
   "metadata": {},
   "outputs": [],
   "source": []
  }
 ],
 "metadata": {
  "kernelspec": {
   "display_name": "Python 3",
   "language": "python",
   "name": "python3"
  },
  "language_info": {
   "codemirror_mode": {
    "name": "ipython",
    "version": 3
   },
   "file_extension": ".py",
   "mimetype": "text/x-python",
   "name": "python",
   "nbconvert_exporter": "python",
   "pygments_lexer": "ipython3",
   "version": "3.7.3"
  }
 },
 "nbformat": 4,
 "nbformat_minor": 2
}

{
 "cells": [
  {
   "cell_type": "code",
   "execution_count": null,
   "metadata": {},
   "outputs": [],
   "source": [
    "#Basado https://www.udemy.com/course/big-data-data-science-python-web-scraping-2019-achirou-alvaro-chirou/learn/lecture/21434108#notes\n",
    "\n",
    "from selenium import webdriver\n",
    "\n",
    "captura = webdriver.Chrome(\"chromedriver.exe\")\n",
    "captura.get(\"https://www.youtube.com/c/AlvaroChirou\")\n",
    "\n",
    "captura.get_screenshot_as_file(\"C:\\\\Users\\\\sergio\\\\Desktop\\\\Nueva carpeta (2)\\\\ejemplo.png\")"
   ]
  }
 ],
 "metadata": {
  "kernelspec": {
   "display_name": "Python 3",
   "language": "python",
   "name": "python3"
  },
  "language_info": {
   "codemirror_mode": {
    "name": "ipython",
    "version": 3
   },
   "file_extension": ".py",
   "mimetype": "text/x-python",
   "name": "python",
   "nbconvert_exporter": "python",
   "pygments_lexer": "ipython3",
   "version": "3.7.3"
  }
 },
 "nbformat": 4,
 "nbformat_minor": 2
}

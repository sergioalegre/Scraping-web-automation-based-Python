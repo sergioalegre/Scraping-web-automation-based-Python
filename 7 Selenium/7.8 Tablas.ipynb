{
 "cells": [
  {
   "cell_type": "code",
   "execution_count": 7,
   "metadata": {},
   "outputs": [
    {
     "name": "stdout",
     "output_type": "stream",
     "text": [
      "7\n",
      "3\n",
      "Alfreds Futterkiste Maria Anders Germany \n",
      "Centro comercial Moctezuma Francisco Chang Mexico \n",
      "Ernst Handel Roland Mendel Austria \n",
      "Island Trading Helen Bennett UK \n",
      "Laughing Bacchus Winecellars Yoshi Tannamuri Canada \n",
      "Magazzini Alimentari Riuniti Giovanni Rovelli Italy \n"
     ]
    }
   ],
   "source": [
    "#Basado https://www.udemy.com/course/big-data-data-science-python-web-scraping-2019-achirou-alvaro-chirou/learn/lecture/21316268#notes\n",
    "\n",
    "#en este ejemplo leeremos datos de una tabla <table>\n",
    "\n",
    "from selenium import webdriver\n",
    "import time\n",
    "\n",
    "tablas = webdriver.Chrome(\"chromedriver.exe\")\n",
    "tablas.get(\"https://www.w3schools.com/html/html_tables.asp\")\n",
    "time.sleep(2)\n",
    "\n",
    "fila = len(tablas.find_elements_by_xpath(\"//*[@id='customers']/tbody/tr\"))\n",
    "columnas = len(tablas.find_elements_by_xpath(\"//*[@id='customers']/tbody/tr[1]/th\"))\n",
    "\n",
    "print(fila)\n",
    "print(columnas)\n",
    "\n",
    "for x in range(2,fila+1):\n",
    "    for y in range(1,columnas+1):\n",
    "        imprimir = tablas.find_element_by_xpath(\"//*[@id='customers']/tbody/tr[\"+str(x)+\"]/td[\"+str(y)+\"]\").text\n",
    "        print(imprimir, end=' ')\n",
    "    print()"
   ]
  },
  {
   "cell_type": "code",
   "execution_count": null,
   "metadata": {},
   "outputs": [],
   "source": []
  }
 ],
 "metadata": {
  "kernelspec": {
   "display_name": "Python 3",
   "language": "python",
   "name": "python3"
  },
  "language_info": {
   "codemirror_mode": {
    "name": "ipython",
    "version": 3
   },
   "file_extension": ".py",
   "mimetype": "text/x-python",
   "name": "python",
   "nbconvert_exporter": "python",
   "pygments_lexer": "ipython3",
   "version": "3.7.3"
  }
 },
 "nbformat": 4,
 "nbformat_minor": 2
}

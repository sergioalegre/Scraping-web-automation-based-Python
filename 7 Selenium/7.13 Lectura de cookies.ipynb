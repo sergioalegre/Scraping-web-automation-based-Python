{
 "cells": [
  {
   "cell_type": "code",
   "execution_count": 2,
   "metadata": {},
   "outputs": [
    {
     "name": "stdout",
     "output_type": "stream",
     "text": [
      "[{'domain': 'www.google.es', 'expiry': 1603976442, 'httpOnly': False, 'name': 'UULE', 'path': '/', 'secure': False, 'value': 'a+cm9sZTogMQpwcm9kdWNlcjogMTIKdGltZXN0YW1wOiAxNjAzOTU0ODQxNTM0MDAwCmxhdGxuZyB7CiAgbGF0aXR1ZGVfZTc6IDQyMzY1NzQ3MgogIGxvbmdpdHVkZV9lNzogLTM2NDA1MjQ4Cn0KcmFkaXVzOiAzNDM1OTk2NjAKcHJvdmVuYW5jZTogNgo='}, {'domain': '.google.es', 'expiry': 1619766041, 'httpOnly': True, 'name': 'NID', 'path': '/', 'sameSite': 'None', 'secure': True, 'value': '204=xyZuJ9fyb6twVMSkoXFqPLR_7fNvqUAnohhel4FKG2ATf1cWtyp3qX74TFNs0VG5u_hIgFLpzxdgle2V_466pg4Me3TcEfCouZJGaPVHjIH0t9cC_PVhhvIMFQGETm63q6D3iCW5-WVqOOwVEK9dzwb_mGo_xkfeEwF0LerxeHA'}, {'domain': '.google.es', 'expiry': 2145916800, 'httpOnly': False, 'name': 'CONSENT', 'path': '/', 'secure': False, 'value': 'WP.28ca6a'}]\n"
     ]
    }
   ],
   "source": [
    "#Basado https://www.udemy.com/course/big-data-data-science-python-web-scraping-2019-achirou-alvaro-chirou/learn/lecture/21433896#notes\n",
    "\n",
    "from selenium.webdriver.common.keys import Keys \n",
    "from selenium import webdriver\n",
    "import time\n",
    "\n",
    "cookie = webdriver.Chrome(\"chromedriver.exe\")\n",
    "cookie.get(\"https://google.es\")\n",
    "time.sleep(2)\n",
    "\n",
    "all_cookie = cookie.get_cookies()\n",
    "print(all_cookie)"
   ]
  },
  {
   "cell_type": "code",
   "execution_count": null,
   "metadata": {},
   "outputs": [],
   "source": []
  }
 ],
 "metadata": {
  "kernelspec": {
   "display_name": "Python 3",
   "language": "python",
   "name": "python3"
  },
  "language_info": {
   "codemirror_mode": {
    "name": "ipython",
    "version": 3
   },
   "file_extension": ".py",
   "mimetype": "text/x-python",
   "name": "python",
   "nbconvert_exporter": "python",
   "pygments_lexer": "ipython3",
   "version": "3.7.3"
  }
 },
 "nbformat": 4,
 "nbformat_minor": 2
}

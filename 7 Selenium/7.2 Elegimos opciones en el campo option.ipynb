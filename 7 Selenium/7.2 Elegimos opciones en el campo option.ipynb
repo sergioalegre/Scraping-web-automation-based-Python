{
 "cells": [
  {
   "cell_type": "code",
   "execution_count": 16,
   "metadata": {},
   "outputs": [],
   "source": [
    "#Basado en https://www.udemy.com/course/big-data-data-science-python-web-scraping-2019-achirou-alvaro-chirou/learn/lecture/18198840#notes\n",
    "\n",
    "#Hay webs que al modificar un campo cambia otro, sin una 'espera' el script ira mas rápido que la web y no funcionará.\n",
    "#Usaremos un 'sleep' para esperar que la página se modifique antes de seguir con nuestro script\n",
    "\n",
    "from selenium.webdriver.common.keys import Keys\n",
    "from selenium import webdriver\n",
    "import time\n",
    "\n",
    "chrome_driver = webdriver.Chrome(\"chromedriver.exe\")\n",
    "\n",
    "chrome_driver.get('http://eportal.miteco.gob.es/BoleHWeb/')\n",
    "\n",
    "\n",
    "#ACCION1\n",
    "option = 'select[name=\"year\"] option[value=\"12\"]'\n",
    "accion = chrome_driver.find_element_by_css_selector(option)\n",
    "click = accion.click()\n",
    "\n",
    "time.sleep(2) #que espere antes de seguir a que la página cambie\n",
    "\n",
    "#ACCION2\n",
    "option2 = 'select[name=\"month\"] option[value=\"5\"]'\n",
    "accion2 = chrome_driver.find_element_by_css_selector(option2)\n",
    "click2 = accion2.click()"
   ]
  },
  {
   "cell_type": "code",
   "execution_count": null,
   "metadata": {},
   "outputs": [],
   "source": []
  }
 ],
 "metadata": {
  "kernelspec": {
   "display_name": "Python 3",
   "language": "python",
   "name": "python3"
  },
  "language_info": {
   "codemirror_mode": {
    "name": "ipython",
    "version": 3
   },
   "file_extension": ".py",
   "mimetype": "text/x-python",
   "name": "python",
   "nbconvert_exporter": "python",
   "pygments_lexer": "ipython3",
   "version": "3.7.3"
  }
 },
 "nbformat": 4,
 "nbformat_minor": 2
}

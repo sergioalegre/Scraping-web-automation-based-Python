{
 "cells": [
  {
   "cell_type": "code",
   "execution_count": null,
   "metadata": {},
   "outputs": [],
   "source": [
    "#Selenium es una libreria de Python para automatizar scrapping, requiere del uso del chrome_driver\n",
    "#sacar el xpath: con el navegador en las herramientas de desarrollo. Hay que cambiar las comillas dobles por simples\n",
    "\n",
    "\n",
    "#DROPDOWN - <select> - 7.6\n",
    "selec = Select(driver.find_element_by_xpath(\"//*[@id='main']/div[3]/div[1]/select\"))\n",
    "selec.select_by_value(\"5\")\n",
    "\n",
    "#CSS - 7.7\n",
    "contenedor = css.find_element_by_css_selector('a.w3-blue')\n",
    "contenedor.click()\n",
    "\n",
    "#Tablas - <table> - 7.8\n",
    "fila = len(tablas.find_elements_by_xpath(\"//*[@id='customers']/tbody/tr\"))\n",
    "colamnas = len(tablas.find_elements_by_xpath(\"//*[@id='customers']/tbody/tr[1]/th\"))\n",
    "\n",
    "#Scroll - 7.9\n",
    "scroll.execute_script(\"window.scrollTo(0,document.body.scrollHeight)\")\n",
    "\n",
    "#Switch - 7.10\n",
    "switch = driver.find_element_by_xpath(\"//*[@id='main']/label[3]/div\")\n",
    "switch.click()\n",
    "\n",
    "#Radio Button - <input type=\"radio\"> 7.11\n",
    "boton = scraping.find_element_by_xpath(\"//*[@id='main']/div[3]/div[1]/input[4]\")\n",
    "boton.click()\n",
    "\n",
    "#Posicionarnos en un enlace - 7.12\n",
    "hipervinculo = enlace.find_element_by_link_text(\"Lo que pone en el enlace\")\n",
    "posicionar = ActionChains(enlace).move_to_element(hipervinculo)\n",
    "posicionar.perform()\n",
    "\n",
    "#Cookies - 7.13\n",
    "all_cookie = cookie.get_cookies()\n",
    "print(all_cookie)\n",
    "\n",
    "#Capturar pantalla - 7.14\n",
    "captura.get_screenshot_as_file(\"C:\\\\Users\\\\sergio\\\\Desktop\\\\Nueva carpeta (2)\\\\ejemplo.png\")\n",
    "\n",
    "#Subir archivos - <input type=\"file\"> - 7.15\n",
    "cargar.find_element_by_id(\"input-file-now\").send_keys(\"C:\\\\Users\\\\sergio\\\\Desktop\\\\foto perfil\\\\Screenshot_2.png\")\n",
    "\n"
   ]
  },
  {
   "cell_type": "code",
   "execution_count": null,
   "metadata": {},
   "outputs": [],
   "source": []
  }
 ],
 "metadata": {
  "kernelspec": {
   "display_name": "Python 3",
   "language": "python",
   "name": "python3"
  },
  "language_info": {
   "codemirror_mode": {
    "name": "ipython",
    "version": 3
   },
   "file_extension": ".py",
   "mimetype": "text/x-python",
   "name": "python",
   "nbconvert_exporter": "python",
   "pygments_lexer": "ipython3",
   "version": "3.7.3"
  }
 },
 "nbformat": 4,
 "nbformat_minor": 2
}

{
 "cells": [
  {
   "cell_type": "code",
   "execution_count": null,
   "metadata": {},
   "outputs": [],
   "source": [
    "#Basado https://www.udemy.com/course/big-data-data-science-python-web-scraping-2019-achirou-alvaro-chirou/learn/lecture/21322382#notes\n",
    "\n",
    "from selenium.webdriver.common.keys import Keys\n",
    "from selenium import webdriver\n",
    "import unittest\n",
    "import time\n",
    "\n",
    "chrome_driver = webdriver.Chrome(\"chromedriver.exe\")\n",
    "scraping = chrome_driver\n",
    "scraping.get(\"https://www.w3schools.com/howto/howto_css_custom_checkbox.asp\")\n",
    "time.sleep(2)\n",
    "\n",
    "boton = scraping.find_element_by_xpath(\"//*[@id='main']/div[3]/div[1]/input[4]\")\n",
    "boton.click()\n",
    "time.sleep(2)\n",
    "boton = scraping.find_element_by_xpath(\"//*[@id='main']/div[3]/div[1]/input[3]\")\n",
    "boton.click()\n",
    "time.sleep(2)\n"
   ]
  }
 ],
 "metadata": {
  "kernelspec": {
   "display_name": "Python 3",
   "language": "python",
   "name": "python3"
  },
  "language_info": {
   "codemirror_mode": {
    "name": "ipython",
    "version": 3
   },
   "file_extension": ".py",
   "mimetype": "text/x-python",
   "name": "python",
   "nbconvert_exporter": "python",
   "pygments_lexer": "ipython3",
   "version": "3.7.3"
  }
 },
 "nbformat": 4,
 "nbformat_minor": 2
}

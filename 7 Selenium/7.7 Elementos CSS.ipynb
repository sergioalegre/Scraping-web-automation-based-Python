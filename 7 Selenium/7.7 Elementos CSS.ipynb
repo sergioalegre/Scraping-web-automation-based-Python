{
 "cells": [
  {
   "cell_type": "code",
   "execution_count": null,
   "metadata": {},
   "outputs": [],
   "source": [
    "#Basado https://www.udemy.com/course/big-data-data-science-python-web-scraping-2019-achirou-alvaro-chirou/learn/lecture/21282354#notes\n",
    "\n",
    "#en este ejemplo daremos click a un enlace ('a') sin 'name' ni 'id', pero con un css exclusivo\n",
    "\n",
    "from selenium.webdriver.common.keys import Keys\n",
    "from selenium import webdriver\n",
    "import time\n",
    "\n",
    "chrome_driver = webdriver.Chrome(\"chromedriver.exe\")\n",
    "\n",
    "css = chrome_driver\n",
    "\n",
    "css.get(\"https://www.w3schools.com/html/default.asp\")\n",
    "time.sleep(2)\n",
    "contenedor = css.find_element_by_css_selector('a.w3-blue')\n",
    "contenedor.click()"
   ]
  }
 ],
 "metadata": {
  "kernelspec": {
   "display_name": "Python 3",
   "language": "python",
   "name": "python3"
  },
  "language_info": {
   "codemirror_mode": {
    "name": "ipython",
    "version": 3
   },
   "file_extension": ".py",
   "mimetype": "text/x-python",
   "name": "python",
   "nbconvert_exporter": "python",
   "pygments_lexer": "ipython3",
   "version": "3.7.3"
  }
 },
 "nbformat": 4,
 "nbformat_minor": 2
}

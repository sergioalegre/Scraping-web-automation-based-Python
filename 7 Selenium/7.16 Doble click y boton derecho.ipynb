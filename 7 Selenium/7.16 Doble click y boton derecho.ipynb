{
 "cells": [
  {
   "cell_type": "code",
   "execution_count": null,
   "metadata": {},
   "outputs": [],
   "source": [
    "#Basado\n",
    "\n",
    "from selenium.webdriver.common.by import By\n",
    "from selenium.webdriver import ActionChains\n",
    "from selenium import webdriver\n",
    "import time\n",
    "\n",
    "derecho_doble = webdriver.Chrome(\"chromedriver.exe\")\n",
    "derecho_doble.get(\"https://educa.mastech.academy/\")\n",
    "time.sleep(2)\n",
    "\n",
    "accion = derecho_doble.find_element_by_xpath(\"//*[@id='block-33691560']/section/div/div/div[1]/div[1]/h1/span\")\n",
    "realidad = ActionChains(derecho_doble)\n",
    "realidad.double_click(accion).perform()\n",
    "\n",
    "realidad.context_click(accion).perform() #boton derecho"
   ]
  }
 ],
 "metadata": {
  "kernelspec": {
   "display_name": "Python 3",
   "language": "python",
   "name": "python3"
  },
  "language_info": {
   "codemirror_mode": {
    "name": "ipython",
    "version": 3
   },
   "file_extension": ".py",
   "mimetype": "text/x-python",
   "name": "python",
   "nbconvert_exporter": "python",
   "pygments_lexer": "ipython3",
   "version": "3.7.3"
  }
 },
 "nbformat": 4,
 "nbformat_minor": 2
}

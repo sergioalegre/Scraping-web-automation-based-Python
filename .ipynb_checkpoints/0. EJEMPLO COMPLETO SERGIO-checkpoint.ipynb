{
 "cells": [
  {
   "cell_type": "code",
   "execution_count": 1,
   "metadata": {},
   "outputs": [],
   "source": [
    "#Este scipt recoge un resumen de lo aprendido en el curso y lo ejecuta contra: \n",
    "#http://www.sergioalegre.es/Programacion/_ScrappingPython\n",
    "#y contiene otros apuntes\n",
    "\n",
    "#Documentacion Selenium: https://selenium-python.readthedocs.io/locating-elements.html"
   ]
  },
  {
   "cell_type": "code",
   "execution_count": 2,
   "metadata": {},
   "outputs": [
    {
     "name": "stdout",
     "output_type": "stream",
     "text": [
      "Requirement already up-to-date: selenium in c:\\users\\hq_admin15\\appdata\\local\\continuum\\anaconda3\\lib\\site-packages (3.141.0)\n",
      "Requirement already satisfied, skipping upgrade: urllib3 in c:\\users\\hq_admin15\\appdata\\local\\continuum\\anaconda3\\lib\\site-packages (from selenium) (1.24.2)\n"
     ]
    }
   ],
   "source": [
    "#Prerequisito: importamos Selenium\n",
    "import sys\n",
    "!{sys.executable} -m pip install -U selenium"
   ]
  },
  {
   "cell_type": "code",
   "execution_count": 3,
   "metadata": {},
   "outputs": [],
   "source": [
    "from selenium.webdriver.common.keys import Keys\n",
    "from selenium import webdriver\n",
    "import time\n",
    "\n",
    "chrome_driver = webdriver.Chrome(\"chromedriver.exe\")\n",
    "chrome_driver.get('http://www.sergioalegre.es/Programacion/_ScrappingPython/')\n",
    "\n",
    "driver = chrome_driver"
   ]
  },
  {
   "cell_type": "code",
   "execution_count": 4,
   "metadata": {},
   "outputs": [],
   "source": [
    "#SELECT basado en name - OK\n",
    "time.sleep(2)\n",
    "option = 'select[name=\"dropd\"] option[value=\"B\"]'\n",
    "accion = driver.find_element_by_css_selector(option)\n",
    "click = accion.click()"
   ]
  },
  {
   "cell_type": "code",
   "execution_count": null,
   "metadata": {},
   "outputs": [],
   "source": [
    "#EXTRA: SELECT basado en id - OK\n",
    "#time.sleep(2)\n",
    "#option = 'select[id=\"nombre_id\"] option[value=\"B\"]'\n",
    "#accion = driver.find_element_by_css_selector(option)\n",
    "#click = accion.click()"
   ]
  },
  {
   "cell_type": "code",
   "execution_count": 5,
   "metadata": {},
   "outputs": [],
   "source": [
    "# 7.3 CLICK en INPUT - OK\n",
    "time.sleep(2)\n",
    "click_en_campo = driver.find_element_by_css_selector('input[name=\"password\"]')\n",
    "click = click_en_campo.click()"
   ]
  },
  {
   "cell_type": "code",
   "execution_count": 6,
   "metadata": {},
   "outputs": [],
   "source": [
    "# 7.4 - rellenar un FORM basado en name\n",
    "time.sleep(2)\n",
    "correo = driver.find_element_by_name(\"usuario\")\n",
    "correo.send_keys(\"sergio\")\n",
    "\n",
    "time.sleep(2)\n",
    "correo = driver.find_element_by_name(\"contrasenia\")\n",
    "correo.send_keys(\"mi_passwod\")\n",
    "\n",
    "time.sleep(2)\n",
    "correo.send_keys(Keys.ENTER) #simular dar un ENTER"
   ]
  },
  {
   "cell_type": "code",
   "execution_count": null,
   "metadata": {},
   "outputs": [],
   "source": [
    "#EXTRA: rellenar un campo basado en id\n",
    "#time.sleep(22)\n",
    "#year = driver.find_element_by_id(\"nombre_id)\n",
    "#year.send_keys(\"2020\")"
   ]
  },
  {
   "cell_type": "code",
   "execution_count": null,
   "metadata": {},
   "outputs": [],
   "source": [
    "# 7.4 - 7.5 PESTAÑAS del navegador e HISTORIAL - OK\n",
    "time.sleep(2)\n",
    "driver.execute_script(\"window.open('');\") #abre segunda pestaña + espera + en ella abre una web + espera\n",
    "time.sleep(2)\n",
    "driver.switch_to.window(driver.window_handles[1]) \n",
    "driver.get(\"https://es.wikipedia.org/wiki/Wikipedia:Portada\")\n",
    "time.sleep(2)\n",
    "driver.get(\"https://google.com\")\n",
    "time.sleep(1)\n",
    "driver.back() #vuelve un paso atras a la wikipedia\n",
    "driver.switch_to.window(driver.window_handles[0]) #nos posiciona en primera pestaña"
   ]
  },
  {
   "cell_type": "code",
   "execution_count": 8,
   "metadata": {},
   "outputs": [],
   "source": [
    "# 7.6 SELECT basado en XPath - OK\n",
    "from selenium.webdriver.support.ui import Select\n",
    "seleccion = driver.find_element_by_xpath(\"/html/body/select[2]\") #el valor del xpath lo sacamos con la herramienta de desarollo del navegador\n",
    "opcion = seleccion.find_elements_by_tag_name(\"option\") #en un dropdown html, dentro de un select hay varios option\n",
    "time.sleep(2)\n",
    "\n",
    "for x in opcion: \n",
    "    x.click()\n",
    "    time.sleep(1)\n",
    "\n",
    "selec = Select(driver.find_element_by_xpath(\"/html/body/select[2]\"))\n",
    "selec.select_by_value(\"red\") #en un dropdown html, dentro de un select hay varios option, estos tienen un value"
   ]
  },
  {
   "cell_type": "code",
   "execution_count": 9,
   "metadata": {},
   "outputs": [],
   "source": [
    "# 7.7 basado en CSS - OK\n",
    "time.sleep(2)\n",
    "contenedor = driver.find_element_by_css_selector('button.boton') #la clase de elmento (en este caso button) y su clase (en este caso boton)\n",
    "contenedor.click()"
   ]
  },
  {
   "cell_type": "code",
   "execution_count": 10,
   "metadata": {},
   "outputs": [
    {
     "name": "stdout",
     "output_type": "stream",
     "text": [
      "Numero de filas 3\n",
      "Numero de columnas 2\n",
      "Enero $100 \n",
      "Febrero $80 \n"
     ]
    }
   ],
   "source": [
    "# 7.8 TABLE - OK\n",
    "filas = len(driver.find_elements_by_xpath(\"//*[@id='tabla1']/tbody/tr\"))\n",
    "columnas = len(driver.find_elements_by_xpath(\"//*[@id='tabla1']/tbody/tr[1]/th\"))\n",
    "\n",
    "print(\"Numero de filas\",filas)\n",
    "print(\"Numero de columnas\",columnas)\n",
    "\n",
    "for x in range(2,filas+1):\n",
    "    for y in range(1,columnas+1):\n",
    "        imprimir = driver.find_element_by_xpath(\"//*[@id='tabla1']/tbody/tr[\"+str(x)+\"]/td[\"+str(y)+\"]\").text\n",
    "        print(imprimir, end=' ')\n",
    "    print()"
   ]
  },
  {
   "cell_type": "code",
   "execution_count": 11,
   "metadata": {},
   "outputs": [],
   "source": [
    "# 7.9 SCROLL\n",
    "time.sleep(2)\n",
    "driver.execute_script(\"window.scrollTo(0,document.body.scrollHeight)\")"
   ]
  },
  {
   "cell_type": "code",
   "execution_count": 12,
   "metadata": {},
   "outputs": [],
   "source": [
    "#Cerrar conexion\n",
    "time.sleep(3)\n",
    "driver.close()"
   ]
  },
  {
   "cell_type": "code",
   "execution_count": null,
   "metadata": {},
   "outputs": [],
   "source": []
  }
 ],
 "metadata": {
  "kernelspec": {
   "display_name": "Python 3",
   "language": "python",
   "name": "python3"
  },
  "language_info": {
   "codemirror_mode": {
    "name": "ipython",
    "version": 3
   },
   "file_extension": ".py",
   "mimetype": "text/x-python",
   "name": "python",
   "nbconvert_exporter": "python",
   "pygments_lexer": "ipython3",
   "version": "3.7.3"
  }
 },
 "nbformat": 4,
 "nbformat_minor": 2
}

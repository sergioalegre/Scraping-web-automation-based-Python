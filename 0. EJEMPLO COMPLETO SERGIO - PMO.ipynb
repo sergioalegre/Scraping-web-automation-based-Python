{
 "cells": [
  {
   "cell_type": "code",
   "execution_count": 1,
   "metadata": {},
   "outputs": [
    {
     "name": "stdout",
     "output_type": "stream",
     "text": [
      "Requirement already up-to-date: selenium in c:\\users\\sergio\\appdata\\local\\continuum\\anaconda3\\lib\\site-packages (3.141.0)\n",
      "Requirement already satisfied, skipping upgrade: urllib3 in c:\\users\\sergio\\appdata\\local\\continuum\\anaconda3\\lib\\site-packages (from selenium) (1.24.2)\n"
     ]
    }
   ],
   "source": [
    "#Prerequisito: importamos Selenium\n",
    "#Documentación Selenium: https://selenium-python.readthedocs.io/index.html\n",
    "import sys\n",
    "!{sys.executable} -m pip install -U selenium"
   ]
  },
  {
   "cell_type": "code",
   "execution_count": 2,
   "metadata": {},
   "outputs": [],
   "source": [
    "from selenium.webdriver.common.keys import Keys\n",
    "from selenium import webdriver\n",
    "import time\n",
    "\n",
    "chrome_driver = webdriver.Chrome(\"chromedriver.exe\")\n",
    "chrome_driver.get('http://dominio.com/pagina.aspx')\n",
    "\n",
    "driver = chrome_driver"
   ]
  },
  {
   "cell_type": "code",
   "execution_count": 25,
   "metadata": {},
   "outputs": [],
   "source": [
    "#Abrir Beone en nueva pestaña\n",
    "time.sleep(1)\n",
    "driver.execute_script(\"window.open('');\") #abre segunda pestaña + espera + en ella abre una web + espera\n",
    "time.sleep(1)\n",
    "driver.switch_to.window(driver.window_handles[1]) \n",
    "driver.get(\"http://otra_web.com/default.aspx\")\n",
    "time.sleep(1)\n",
    "driver.back() #vuelve un paso atras a la wikipedia\n",
    "driver.switch_to.window(driver.window_handles[0]) #nos posiciona en primera pestaña"
   ]
  },
  {
   "cell_type": "code",
   "execution_count": 3,
   "metadata": {},
   "outputs": [],
   "source": [
    "#Source - SELECT\n",
    "time.sleep(1)\n",
    "option = 'select[id=\"urceIT_47f71057-192d-4647-84b5-ffe421cd71ae_$DropDownChoice\"] option[value=\"Status Review Meetings\"]'\n",
    "source = driver.find_element_by_css_selector(option)\n",
    "click = source.click()"
   ]
  },
  {
   "cell_type": "code",
   "execution_count": 4,
   "metadata": {},
   "outputs": [],
   "source": [
    "#Year - INPUT\n",
    "time.sleep(1)\n",
    "year = driver.find_element_by_id(\"YearIT_e0bf3442-37d2-479a-9092-2fe5e20b1167_$NumberField\")\n",
    "year.send_keys(\"2020\")"
   ]
  },
  {
   "cell_type": "code",
   "execution_count": 5,
   "metadata": {},
   "outputs": [],
   "source": [
    "#Code - INPUT\n",
    "time.sleep(1)\n",
    "code = driver.find_element_by_id(\"CodeIT_d0b4ac10-2dba-4541-87ab-e6a2839fe8ac_$TextField\")\n",
    "code.send_keys(\"20DPL-XXX-TEC\")"
   ]
  },
  {
   "cell_type": "code",
   "execution_count": 6,
   "metadata": {},
   "outputs": [],
   "source": [
    "#Project Type - SELECT\n",
    "time.sleep(1)\n",
    "option = 'select[id=\"ProjectTypeIT_47b2d7bd-eedc-4d48-b3c6-dad0d3b3c827_$DropDownChoice\"] option[value=\"DPL: Deployment\"]'\n",
    "proyect_type = driver.find_element_by_css_selector(option)\n",
    "click = proyect_type.click()"
   ]
  },
  {
   "cell_type": "code",
   "execution_count": 7,
   "metadata": {},
   "outputs": [],
   "source": [
    "#Scope Agreement - SELECT\n",
    "time.sleep(1)\n",
    "option = 'select[id=\"ScopeAgreementIT_69938607-42ae-4a7c-9e5f-33d5aa6140ee_$DropDownChoice\"] option[value=\"No\"]'\n",
    "scope_agreement = driver.find_element_by_css_selector(option)\n",
    "click = scope_agreement.click()"
   ]
  },
  {
   "cell_type": "code",
   "execution_count": 8,
   "metadata": {},
   "outputs": [],
   "source": [
    "#Bussiness Impact - RADIO BUTTON\n",
    "time.sleep(1)\n",
    "bussiness_impact = driver.find_element_by_css_selector(\"input[type='radio'][value='Yes']\").click()"
   ]
  },
  {
   "cell_type": "code",
   "execution_count": 9,
   "metadata": {},
   "outputs": [],
   "source": [
    "#Project Manager - INPUT\n",
    "time.sleep(1)\n",
    "proyect_manager = driver.find_element_by_id(\"ProjectManagerIT_f6fd2a5a-b2ec-455d-b0c4-5c3593682d51_$ClientPeoplePicker_EditorInput\")\n",
    "proyect_manager.send_keys(\"sergio.alegre@grupoantolin.com\")"
   ]
  },
  {
   "cell_type": "code",
   "execution_count": 10,
   "metadata": {},
   "outputs": [],
   "source": [
    "# Start Date (Plan) y Start Date (Actual) - INPUT\n",
    "from datetime import datetime\n",
    "now = datetime.now()\n",
    "hoy = now.strftime('%d/%m/%Y')\n",
    "\n",
    "time.sleep(1)\n",
    "Start_Date_Plan = driver.find_element_by_id(\"ExpStartDateIT_812c590d-975e-4c1e-b0bf-8c03947da9c9_$DateTimeFieldDate\")\n",
    "Start_Date_Plan.send_keys(hoy)\n",
    "\n",
    "time.sleep(1)\n",
    "Start_Date_Actual = driver.find_element_by_id(\"RealStartDateIT_c71b6cad-a857-4d34-a8e7-d7351a9e2b6a_$DateTimeFieldDate\")\n",
    "Start_Date_Actual.send_keys(hoy)"
   ]
  },
  {
   "cell_type": "code",
   "execution_count": 11,
   "metadata": {},
   "outputs": [],
   "source": [
    "# Project Status - SELECT\n",
    "time.sleep(1)\n",
    "option = 'select[id=\"ProjectStatus_2d7b0172-b21d-4d54-97c4-740f2ae9e283_$DropDownChoice\"] option[value=\"In study\"]'\n",
    "proyect_status = driver.find_element_by_css_selector(option)\n",
    "click = proyect_status.click()"
   ]
  },
  {
   "cell_type": "code",
   "execution_count": 19,
   "metadata": {},
   "outputs": [],
   "source": [
    "# Project Characteristic - SELECT\n",
    "time.sleep(1)\n",
    "option2 = 'select[id=\"Project_x0020_Characteristic_ab613d47-3467-4809-b668-44e15c68dc48_$DropDownChoice\"] option[value=\"PS: Plant Support\"]'\n",
    "proyect_Characteristic = driver.find_element_by_css_selector(option2)\n",
    "click = proyect_Characteristic.click()"
   ]
  },
  {
   "cell_type": "code",
   "execution_count": 12,
   "metadata": {},
   "outputs": [],
   "source": [
    "#Managed By Area - SELECT\n",
    "time.sleep(1)\n",
    "option = 'select[id=\"ManagedByArea_54a46ddc-bbb1-4e83-a36f-d7de101fdedc_$LookupField\"] option[value=\"54\"]'\n",
    "proyect_status = driver.find_element_by_css_selector(option)\n",
    "click = proyect_status.click()"
   ]
  },
  {
   "cell_type": "code",
   "execution_count": 23,
   "metadata": {},
   "outputs": [],
   "source": [
    "# Requested By Business Area - SELECT\n",
    "time.sleep(1)\n",
    "option1 = 'select[id=\"RequestedByBU_fca89650-8d67-4c88-b7a5-a3b587d4a40a_SelectCandidate\"] option[value=\"1\"]'\n",
    "bu = driver.find_element_by_css_selector(option1)\n",
    "click = bu.click()\n",
    "\n",
    "#INPUT - CLICK\n",
    "time.sleep(2)\n",
    "bu2 = driver.find_element_by_id(\"RequestedByBU_fca89650-8d67-4c88-b7a5-a3b587d4a40a_AddButton\")\n",
    "click = bu2.click()"
   ]
  },
  {
   "cell_type": "code",
   "execution_count": 13,
   "metadata": {},
   "outputs": [],
   "source": [
    "#Project Category - SELECT\n",
    "time.sleep(1)\n",
    "option = 'select[id=\"ProjectCategory_81c6336f-3542-47fa-b291-bfd57a7252c1_$LookupField\"] option[value=\"1\"]'\n",
    "proyect_category = driver.find_element_by_css_selector(option)\n",
    "click = proyect_category.click()"
   ]
  },
  {
   "cell_type": "code",
   "execution_count": 24,
   "metadata": {},
   "outputs": [],
   "source": [
    "#Involved Areas - SELECT\n",
    "time.sleep(1)\n",
    "option1 = 'select[id=\"InvolvedAreas_2af82b39-02af-4be7-89c0-2cbb38d73efe_SelectCandidate\"] option[value=\"35\"]'\n",
    "area1 = driver.find_element_by_css_selector(option1)\n",
    "click = area1.click()\n",
    "\n",
    "option2 = 'select[id=\"InvolvedAreas_2af82b39-02af-4be7-89c0-2cbb38d73efe_SelectCandidate\"] option[value=\"45\"]'\n",
    "area2 = driver.find_element_by_css_selector(option2)\n",
    "click = area2.click()\n",
    "\n",
    "option3 = 'select[id=\"InvolvedAreas_2af82b39-02af-4be7-89c0-2cbb38d73efe_SelectCandidate\"] option[value=\"46\"]'\n",
    "area3 = driver.find_element_by_css_selector(option3)\n",
    "click = area3.click()\n",
    "\n",
    "option4 = 'select[id=\"InvolvedAreas_2af82b39-02af-4be7-89c0-2cbb38d73efe_SelectCandidate\"] option[value=\"36\"]'\n",
    "area4 = driver.find_element_by_css_selector(option4)\n",
    "click = area4.click()\n",
    "\n",
    "option5 = 'select[id=\"InvolvedAreas_2af82b39-02af-4be7-89c0-2cbb38d73efe_SelectCandidate\"] option[value=\"33\"]'\n",
    "area5 = driver.find_element_by_css_selector(option5)\n",
    "click = area5.click()\n",
    "\n",
    "option6 = 'select[id=\"InvolvedAreas_2af82b39-02af-4be7-89c0-2cbb38d73efe_SelectCandidate\"] option[value=\"54\"]'\n",
    "area6 = driver.find_element_by_css_selector(option6)\n",
    "click = area6.click()\n",
    "\n",
    "#INPUT - CLICK\n",
    "time.sleep(2)\n",
    "ia = driver.find_element_by_id(\"InvolvedAreas_2af82b39-02af-4be7-89c0-2cbb38d73efe_AddButton\")\n",
    "click = ia.click()"
   ]
  },
  {
   "cell_type": "code",
   "execution_count": null,
   "metadata": {},
   "outputs": [],
   "source": []
  }
 ],
 "metadata": {
  "kernelspec": {
   "display_name": "Python 3",
   "language": "python",
   "name": "python3"
  },
  "language_info": {
   "codemirror_mode": {
    "name": "ipython",
    "version": 3
   },
   "file_extension": ".py",
   "mimetype": "text/x-python",
   "name": "python",
   "nbconvert_exporter": "python",
   "pygments_lexer": "ipython3",
   "version": "3.7.3"
  }
 },
 "nbformat": 4,
 "nbformat_minor": 2
}

{
 "cells": [
  {
   "cell_type": "code",
   "execution_count": 3,
   "metadata": {},
   "outputs": [
    {
     "name": "stdout",
     "output_type": "stream",
     "text": [
      "Un El hecho empezó el 10 de septiembre del 2018, cuando el hombre realizó la oferta por Internet. Allí, según la teoría que lleva adelante la fiscalía, el imputado simuló tener a la venta un terreno de su propiedad en Parque Industrial, que vendía en 50 mil pesos. La mujer lo contactó y acordaron un encuentro en el lugar para ver el lote.A los dos días, firmaron un boleto de compra-venta y la mujer entregó el dinero. Sin embargo, días después, El fiscal del caso, Marcelo Jara, acusó este viernes al hombre por ser autor del delito de El juez de garantías a cargo dio lugar a la formulación de cargos y el hecho deberá investigarse en un plazo de cuatro meses.<a href=\"https://www.lmneuquen.com/relevaron-2050-familias-la-toma-casimiro-n685737\">Relevaron a 2050 familias en la toma de Casimiro</a><a href=\"https://www.lmneuquen.com/la-justicia-intimo-indalo-reubicar-el-acceso-la-base-n685682\">La Justicia intimó a Indalo a reubicar el acceso a la base</a><a href=\"https://www.lmneuquen.com/cayo-la-banda-del-clio-gris-seguidilla-ocho-robos-n685637\" target=\"\">Cayó la banda del Clio Gris tras seguidilla de ocho robos: así operaba el Keko y el Gato</a>Copyright \n"
     ]
    }
   ],
   "source": [
    "#Basado: https://www.udemy.com/course/big-data-data-science-python-web-scraping-2019-achirou-alvaro-chirou/learn/lecture/18156842#notes\n",
    "#buscaremos las etiquetas de parrafo, las 'p'\n",
    "\n",
    "import urllib\n",
    "from bs4 import BeautifulSoup\n",
    "\n",
    "direccion = 'https://www.lmneuquen.com/se-hizo-pasar-dueno-un-terreno-y-lo-vendio-internet-lo-acusaron-estafa-n685827'\n",
    "codigo = urllib.request.urlopen(direccion)\n",
    "var1 = BeautifulSoup(codigo)\n",
    "p = var1('p') \n",
    "\n",
    "texto = '' \n",
    "for x in p:\n",
    "    if (len(x.attrs)) == 0: \n",
    "        a= x.contents[0] \n",
    "        texto = str(texto) + str(a) #convertimos el texto a string, xq sino da error\n",
    "\n",
    "print(texto)"
   ]
  },
  {
   "cell_type": "code",
   "execution_count": null,
   "metadata": {},
   "outputs": [],
   "source": []
  }
 ],
 "metadata": {
  "kernelspec": {
   "display_name": "Python 3",
   "language": "python",
   "name": "python3"
  },
  "language_info": {
   "codemirror_mode": {
    "name": "ipython",
    "version": 3
   },
   "file_extension": ".py",
   "mimetype": "text/x-python",
   "name": "python",
   "nbconvert_exporter": "python",
   "pygments_lexer": "ipython3",
   "version": "3.7.3"
  }
 },
 "nbformat": 4,
 "nbformat_minor": 2
}

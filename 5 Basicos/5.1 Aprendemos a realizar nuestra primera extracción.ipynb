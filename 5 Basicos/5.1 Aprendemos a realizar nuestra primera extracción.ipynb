{
 "cells": [
  {
   "cell_type": "code",
   "execution_count": 2,
   "metadata": {},
   "outputs": [
    {
     "name": "stdout",
     "output_type": "stream",
     "text": [
      "HTTP/1.1 503 Service Unavailable\r\n",
      "Content-Type: text/html; charset=UTF-8\r\n",
      "Content-Length: 939\r\n",
      "Connection: close\r\n",
      "P3P: CP=\"CAO PSA OUR\"\r\n",
      "Expires: Thu, 01 Jan 1970 00:00:00 GMT\r\n",
      "Cache-Control: no-store, no-cache, must-revalidate, post-check=0, pre-check=0\r\n",
      "Pragma: no-cache\r\n",
      "\r\n",
      "<html>\r\n",
      "<head>\r\n",
      "<title>Application Blocked</title>\r\n",
      "<meta http-equiv=\"Content-Type\" content=\"text/html; charset=utf-8\">\r\n",
      "<META HTTP-EQUIV=\"PRAGMA\" CONTENT=\"NO-CACHE\">\r\n",
      "<meta name=\"viewport\" content=\"initial-scale=1.0\">\r\n",
      "<style>\r\n",
      "  #content {\r\n",
      "    border:3px solid#aaa;\r\n",
      "    background-color:#fff;\r\n",
      "    margin:1.5em;\r\n",
      "    padding:1.5em;\r\n",
      "    font-family:Tahoma,Helvetica,Arial,sans-serif;\r\n",
      "    font-size:1em;\r\n",
      "  }\r\n",
      "  h1 {\r\n",
      "    font-size:1.3em;\r\n",
      "    font-weight:bold;\r\n",
      "    color:#196390;\r\n",
      "  }\r\n",
      "  b {\r\n",
      "    font-weight:normal;\r\n",
      "    color:#196390;\r\n",
      "  }\r\n",
      "</style>\r\n",
      "</head>\r\n",
      "<body bgcolor=\"#e7e8e9\">\r\n",
      "<div id=\"content\">\r\n",
      "<h1>Application Blocked</h1>\r\n",
      "<p>Access to the application you were trying to use has been blocked in accordance with company policy. Please contact your system administrator if you believe this is in error.</p>\r\n",
      "<p><b>User:</b> grupoantolin\\hq_admin15 </p>\r\n",
      "<p><b>Application:</b> http-proxy </p>\r\n",
      "</div>\r\n",
      "</body>\r\n",
      "</html>\r\n"
     ]
    }
   ],
   "source": [
    "#Basado: https://www.udemy.com/course/big-data-data-science-python-web-scraping-2019-achirou-alvaro-chirou/learn/lecture/18113233#overview\n",
    "import socket\n",
    "\n",
    "Server = socket.socket(socket.AF_INET, socket.SOCK_STREAM) #socket recibirá una URL y un puerto\n",
    "Server.connect(('www.w3.org', 80))\n",
    "Read = 'GET https://www.w3.org/Summary.txt HTTP/1.0\\r\\n\\r\\n'.encode()\n",
    "Server.send(Read)\n",
    "\n",
    "while True:\n",
    "    info = Server.recv(512)\n",
    "    if len(info) < 1:\n",
    "        break\n",
    "    print(info.decode(),end='')\n",
    "    \n",
    "Server.close()"
   ]
  },
  {
   "cell_type": "code",
   "execution_count": null,
   "metadata": {},
   "outputs": [],
   "source": [
    "###Conclusiones: vemos en la cuata línea: Connection: Close eso es porque no nos dejan leer la página de este modo"
   ]
  }
 ],
 "metadata": {
  "kernelspec": {
   "display_name": "Python 3",
   "language": "python",
   "name": "python3"
  },
  "language_info": {
   "codemirror_mode": {
    "name": "ipython",
    "version": 3
   },
   "file_extension": ".py",
   "mimetype": "text/x-python",
   "name": "python",
   "nbconvert_exporter": "python",
   "pygments_lexer": "ipython3",
   "version": "3.7.3"
  }
 },
 "nbformat": 4,
 "nbformat_minor": 2
}
